{
 "cells": [
  {
   "cell_type": "markdown",
   "metadata": {},
   "source": [
    "# COVID-19\n",
    "## DS100 Final Project\n",
    "Gene Ho, Hannah Qi, Jasmine Wu"
   ]
  },
  {
   "cell_type": "code",
   "execution_count": 5,
   "metadata": {},
   "outputs": [],
   "source": [
    "import pandas as pd\n",
    "import numpy as np\n",
    "import matplotlib as plt\n",
    "import seaborn as sns\n",
    "\n",
    "import sklearn.linear_model\n",
    "import sklearn"
   ]
  },
  {
   "cell_type": "markdown",
   "metadata": {},
   "source": [
    "## Research Questions\n",
    "1. How does the timing of the implementation of various social distancing measures (i.e. time to issue) impact the growth rate of cases? \n",
    "2. Who would be considered as a highly susceptible population of COVID-19? What characteristics make people more susceptible to COVID-19?"
   ]
  },
  {
   "cell_type": "code",
   "execution_count": 12,
   "metadata": {},
   "outputs": [],
   "source": [
    "counties = pd.read_csv(\"./data/covid19/abridged_counties.csv\")"
   ]
  },
  {
   "cell_type": "code",
   "execution_count": 14,
   "metadata": {},
   "outputs": [
    {
     "output_type": "execute_result",
     "data": {
      "text/plain": "  countyFIPS  STATEFP  COUNTYFP CountyName StateName    State        lat  \\\n0      01001      1.0       1.0    Autauga        AL  Alabama  32.540091   \n1      01003      1.0       3.0    Baldwin        AL  Alabama  30.738314   \n2      01005      1.0       5.0    Barbour        AL  Alabama  31.874030   \n3      01007      1.0       7.0       Bibb        AL  Alabama  32.999024   \n4      01009      1.0       9.0     Blount        AL  Alabama  33.990440   \n\n         lon  POP_LATITUDE  POP_LONGITUDE  ... >500 gatherings public schools  \\\n0 -86.645649     32.500389     -86.494165  ...        737497.0       737500.0   \n1 -87.726272     30.548923     -87.762381  ...        737497.0       737500.0   \n2 -85.397327     31.844036     -85.310038  ...        737497.0       737500.0   \n3 -87.125260     33.030921     -87.127659  ...        737497.0       737500.0   \n4 -86.562711     33.955243     -86.591491  ...        737497.0       737500.0   \n\n   restaurant dine-in  entertainment/gym  federal guidelines  \\\n0            737503.0           737512.0            737500.0   \n1            737503.0           737512.0            737500.0   \n2            737503.0           737512.0            737500.0   \n3            737503.0           737512.0            737500.0   \n4            737503.0           737512.0            737500.0   \n\n   foreign travel ban  SVIPercentile  HPSAShortage  HPSAServedPop  \\\n0            737495.0         0.4354           NaN            NaN   \n1            737495.0         0.2162           NaN            NaN   \n2            737495.0         0.9959          6.08         5400.0   \n3            737495.0         0.6003          2.75        14980.0   \n4            737495.0         0.4242          7.21        31850.0   \n\n   HPSAUnderservedPop  \n0                 NaN  \n1                 NaN  \n2             18241.0  \n3              6120.0  \n4             25233.0  \n\n[5 rows x 87 columns]",
      "text/html": "<div>\n<style scoped>\n    .dataframe tbody tr th:only-of-type {\n        vertical-align: middle;\n    }\n\n    .dataframe tbody tr th {\n        vertical-align: top;\n    }\n\n    .dataframe thead th {\n        text-align: right;\n    }\n</style>\n<table border=\"1\" class=\"dataframe\">\n  <thead>\n    <tr style=\"text-align: right;\">\n      <th></th>\n      <th>countyFIPS</th>\n      <th>STATEFP</th>\n      <th>COUNTYFP</th>\n      <th>CountyName</th>\n      <th>StateName</th>\n      <th>State</th>\n      <th>lat</th>\n      <th>lon</th>\n      <th>POP_LATITUDE</th>\n      <th>POP_LONGITUDE</th>\n      <th>...</th>\n      <th>&gt;500 gatherings</th>\n      <th>public schools</th>\n      <th>restaurant dine-in</th>\n      <th>entertainment/gym</th>\n      <th>federal guidelines</th>\n      <th>foreign travel ban</th>\n      <th>SVIPercentile</th>\n      <th>HPSAShortage</th>\n      <th>HPSAServedPop</th>\n      <th>HPSAUnderservedPop</th>\n    </tr>\n  </thead>\n  <tbody>\n    <tr>\n      <td>0</td>\n      <td>01001</td>\n      <td>1.0</td>\n      <td>1.0</td>\n      <td>Autauga</td>\n      <td>AL</td>\n      <td>Alabama</td>\n      <td>32.540091</td>\n      <td>-86.645649</td>\n      <td>32.500389</td>\n      <td>-86.494165</td>\n      <td>...</td>\n      <td>737497.0</td>\n      <td>737500.0</td>\n      <td>737503.0</td>\n      <td>737512.0</td>\n      <td>737500.0</td>\n      <td>737495.0</td>\n      <td>0.4354</td>\n      <td>NaN</td>\n      <td>NaN</td>\n      <td>NaN</td>\n    </tr>\n    <tr>\n      <td>1</td>\n      <td>01003</td>\n      <td>1.0</td>\n      <td>3.0</td>\n      <td>Baldwin</td>\n      <td>AL</td>\n      <td>Alabama</td>\n      <td>30.738314</td>\n      <td>-87.726272</td>\n      <td>30.548923</td>\n      <td>-87.762381</td>\n      <td>...</td>\n      <td>737497.0</td>\n      <td>737500.0</td>\n      <td>737503.0</td>\n      <td>737512.0</td>\n      <td>737500.0</td>\n      <td>737495.0</td>\n      <td>0.2162</td>\n      <td>NaN</td>\n      <td>NaN</td>\n      <td>NaN</td>\n    </tr>\n    <tr>\n      <td>2</td>\n      <td>01005</td>\n      <td>1.0</td>\n      <td>5.0</td>\n      <td>Barbour</td>\n      <td>AL</td>\n      <td>Alabama</td>\n      <td>31.874030</td>\n      <td>-85.397327</td>\n      <td>31.844036</td>\n      <td>-85.310038</td>\n      <td>...</td>\n      <td>737497.0</td>\n      <td>737500.0</td>\n      <td>737503.0</td>\n      <td>737512.0</td>\n      <td>737500.0</td>\n      <td>737495.0</td>\n      <td>0.9959</td>\n      <td>6.08</td>\n      <td>5400.0</td>\n      <td>18241.0</td>\n    </tr>\n    <tr>\n      <td>3</td>\n      <td>01007</td>\n      <td>1.0</td>\n      <td>7.0</td>\n      <td>Bibb</td>\n      <td>AL</td>\n      <td>Alabama</td>\n      <td>32.999024</td>\n      <td>-87.125260</td>\n      <td>33.030921</td>\n      <td>-87.127659</td>\n      <td>...</td>\n      <td>737497.0</td>\n      <td>737500.0</td>\n      <td>737503.0</td>\n      <td>737512.0</td>\n      <td>737500.0</td>\n      <td>737495.0</td>\n      <td>0.6003</td>\n      <td>2.75</td>\n      <td>14980.0</td>\n      <td>6120.0</td>\n    </tr>\n    <tr>\n      <td>4</td>\n      <td>01009</td>\n      <td>1.0</td>\n      <td>9.0</td>\n      <td>Blount</td>\n      <td>AL</td>\n      <td>Alabama</td>\n      <td>33.990440</td>\n      <td>-86.562711</td>\n      <td>33.955243</td>\n      <td>-86.591491</td>\n      <td>...</td>\n      <td>737497.0</td>\n      <td>737500.0</td>\n      <td>737503.0</td>\n      <td>737512.0</td>\n      <td>737500.0</td>\n      <td>737495.0</td>\n      <td>0.4242</td>\n      <td>7.21</td>\n      <td>31850.0</td>\n      <td>25233.0</td>\n    </tr>\n  </tbody>\n</table>\n<p>5 rows × 87 columns</p>\n</div>"
     },
     "metadata": {},
     "execution_count": 14
    }
   ],
   "source": [
    "counties.head()"
   ]
  },
  {
   "cell_type": "code",
   "execution_count": 15,
   "metadata": {},
   "outputs": [
    {
     "output_type": "execute_result",
     "data": {
      "text/plain": "Index(['countyFIPS', 'STATEFP', 'COUNTYFP', 'CountyName', 'StateName', 'State',\n       'lat', 'lon', 'POP_LATITUDE', 'POP_LONGITUDE', 'CensusRegionName',\n       'CensusDivisionName', 'Rural-UrbanContinuumCode2013',\n       'PopulationEstimate2018', 'PopTotalMale2017', 'PopTotalFemale2017',\n       'FracMale2017', 'PopulationEstimate65+2017',\n       'PopulationDensityperSqMile2010', 'CensusPopulation2010',\n       'MedianAge2010', '#EligibleforMedicare2018',\n       'MedicareEnrollment,AgedTot2017', '3-YrDiabetes2015-17',\n       'DiabetesPercentage', 'HeartDiseaseMortality', 'StrokeMortality',\n       'Smokers_Percentage', 'RespMortalityRate2014', '#FTEHospitalTotal2017',\n       'TotalM.D.'s,TotNon-FedandFed2017', '#HospParticipatinginNetwork2017',\n       '#Hospitals', '#ICU_beds', 'dem_to_rep_ratio', 'PopMale<52010',\n       'PopFmle<52010', 'PopMale5-92010', 'PopFmle5-92010', 'PopMale10-142010',\n       'PopFmle10-142010', 'PopMale15-192010', 'PopFmle15-192010',\n       'PopMale20-242010', 'PopFmle20-242010', 'PopMale25-292010',\n       'PopFmle25-292010', 'PopMale30-342010', 'PopFmle30-342010',\n       'PopMale35-442010', 'PopFmle35-442010', 'PopMale45-542010',\n       'PopFmle45-542010', 'PopMale55-592010', 'PopFmle55-592010',\n       'PopMale60-642010', 'PopFmle60-642010', 'PopMale65-742010',\n       'PopFmle65-742010', 'PopMale75-842010', 'PopFmle75-842010',\n       'PopMale>842010', 'PopFmle>842010', '3-YrMortalityAge<1Year2015-17',\n       '3-YrMortalityAge1-4Years2015-17', '3-YrMortalityAge5-14Years2015-17',\n       '3-YrMortalityAge15-24Years2015-17',\n       '3-YrMortalityAge25-34Years2015-17',\n       '3-YrMortalityAge35-44Years2015-17',\n       '3-YrMortalityAge45-54Years2015-17',\n       '3-YrMortalityAge55-64Years2015-17',\n       '3-YrMortalityAge65-74Years2015-17',\n       '3-YrMortalityAge75-84Years2015-17', '3-YrMortalityAge85+Years2015-17',\n       'mortality2015-17Estimated', 'stay at home', '>50 gatherings',\n       '>500 gatherings', 'public schools', 'restaurant dine-in',\n       'entertainment/gym', 'federal guidelines', 'foreign travel ban',\n       'SVIPercentile', 'HPSAShortage', 'HPSAServedPop', 'HPSAUnderservedPop'],\n      dtype='object')"
     },
     "metadata": {},
     "execution_count": 15
    }
   ],
   "source": [
    "counties.columns"
   ]
  },
  {
   "cell_type": "code",
   "execution_count": 16,
   "metadata": {},
   "outputs": [
    {
     "output_type": "execute_result",
     "data": {
      "text/plain": "             CountyName StateName    State        lat        lon  \\\n0               Autauga        AL  Alabama  32.540091 -86.645649   \n1               Baldwin        AL  Alabama  30.738314 -87.726272   \n2               Barbour        AL  Alabama  31.874030 -85.397327   \n3                  Bibb        AL  Alabama  32.999024 -87.125260   \n4                Blount        AL  Alabama  33.990440 -86.562711   \n...                 ...       ...      ...        ...        ...   \n3239            Kalawao        HI      NaN        NaN        NaN   \n3240   Ciales Municipio        PR      NaN        NaN        NaN   \n3241  Humacao Municipio        PR      NaN        NaN        NaN   \n3242      New York City        NY      NaN        NaN        NaN   \n3243        Kansas City        MO      NaN        NaN        NaN   \n\n      POP_LATITUDE  POP_LONGITUDE CensusRegionName  CensusDivisionName  \\\n0        32.500389     -86.494165            South  East South Central   \n1        30.548923     -87.762381            South  East South Central   \n2        31.844036     -85.310038            South  East South Central   \n3        33.030921     -87.127659            South  East South Central   \n4        33.955243     -86.591491            South  East South Central   \n...            ...            ...              ...                 ...   \n3239     21.188495    -156.979972             West             Pacific   \n3240     18.314399     -66.494215              NaN                 NaN   \n3241     18.144804     -65.817109              NaN                 NaN   \n3242           NaN            NaN              NaN                 NaN   \n3243           NaN            NaN              NaN                 NaN   \n\n      Rural-UrbanContinuumCode2013  ...  >500 gatherings  public schools  \\\n0                              2.0  ...         737497.0        737500.0   \n1                              3.0  ...         737497.0        737500.0   \n2                              6.0  ...         737497.0        737500.0   \n3                              1.0  ...         737497.0        737500.0   \n4                              1.0  ...         737497.0        737500.0   \n...                            ...  ...              ...             ...   \n3239                           3.0  ...         737509.0        737507.0   \n3240                           1.0  ...              NaN        737500.0   \n3241                           1.0  ...              NaN        737500.0   \n3242                           NaN  ...              NaN             NaN   \n3243                           NaN  ...              NaN             NaN   \n\n      restaurant dine-in  entertainment/gym  federal guidelines  \\\n0               737503.0           737512.0            737500.0   \n1               737503.0           737512.0            737500.0   \n2               737503.0           737512.0            737500.0   \n3               737503.0           737512.0            737500.0   \n4               737503.0           737512.0            737500.0   \n...                  ...                ...                 ...   \n3239            737504.0           737509.0            737500.0   \n3240            737499.0           737499.0            737500.0   \n3241            737499.0           737499.0            737500.0   \n3242                 NaN                NaN                 NaN   \n3243                 NaN                NaN                 NaN   \n\n      foreign travel ban  SVIPercentile  HPSAShortage  HPSAServedPop  \\\n0               737495.0         0.4354           NaN            NaN   \n1               737495.0         0.2162           NaN            NaN   \n2               737495.0         0.9959          6.08         5400.0   \n3               737495.0         0.6003          2.75        14980.0   \n4               737495.0         0.4242          7.21        31850.0   \n...                  ...            ...           ...            ...   \n3239            737495.0         0.3162           NaN            NaN   \n3240            737495.0            NaN           NaN            NaN   \n3241            737495.0            NaN           NaN            NaN   \n3242                 NaN            NaN           NaN            NaN   \n3243                 NaN            NaN           NaN            NaN   \n\n      HPSAUnderservedPop  \n0                    NaN  \n1                    NaN  \n2                18241.0  \n3                 6120.0  \n4                25233.0  \n...                  ...  \n3239                 NaN  \n3240                 NaN  \n3241                 NaN  \n3242                 NaN  \n3243                 NaN  \n\n[3244 rows x 84 columns]",
      "text/html": "<div>\n<style scoped>\n    .dataframe tbody tr th:only-of-type {\n        vertical-align: middle;\n    }\n\n    .dataframe tbody tr th {\n        vertical-align: top;\n    }\n\n    .dataframe thead th {\n        text-align: right;\n    }\n</style>\n<table border=\"1\" class=\"dataframe\">\n  <thead>\n    <tr style=\"text-align: right;\">\n      <th></th>\n      <th>CountyName</th>\n      <th>StateName</th>\n      <th>State</th>\n      <th>lat</th>\n      <th>lon</th>\n      <th>POP_LATITUDE</th>\n      <th>POP_LONGITUDE</th>\n      <th>CensusRegionName</th>\n      <th>CensusDivisionName</th>\n      <th>Rural-UrbanContinuumCode2013</th>\n      <th>...</th>\n      <th>&gt;500 gatherings</th>\n      <th>public schools</th>\n      <th>restaurant dine-in</th>\n      <th>entertainment/gym</th>\n      <th>federal guidelines</th>\n      <th>foreign travel ban</th>\n      <th>SVIPercentile</th>\n      <th>HPSAShortage</th>\n      <th>HPSAServedPop</th>\n      <th>HPSAUnderservedPop</th>\n    </tr>\n  </thead>\n  <tbody>\n    <tr>\n      <td>0</td>\n      <td>Autauga</td>\n      <td>AL</td>\n      <td>Alabama</td>\n      <td>32.540091</td>\n      <td>-86.645649</td>\n      <td>32.500389</td>\n      <td>-86.494165</td>\n      <td>South</td>\n      <td>East South Central</td>\n      <td>2.0</td>\n      <td>...</td>\n      <td>737497.0</td>\n      <td>737500.0</td>\n      <td>737503.0</td>\n      <td>737512.0</td>\n      <td>737500.0</td>\n      <td>737495.0</td>\n      <td>0.4354</td>\n      <td>NaN</td>\n      <td>NaN</td>\n      <td>NaN</td>\n    </tr>\n    <tr>\n      <td>1</td>\n      <td>Baldwin</td>\n      <td>AL</td>\n      <td>Alabama</td>\n      <td>30.738314</td>\n      <td>-87.726272</td>\n      <td>30.548923</td>\n      <td>-87.762381</td>\n      <td>South</td>\n      <td>East South Central</td>\n      <td>3.0</td>\n      <td>...</td>\n      <td>737497.0</td>\n      <td>737500.0</td>\n      <td>737503.0</td>\n      <td>737512.0</td>\n      <td>737500.0</td>\n      <td>737495.0</td>\n      <td>0.2162</td>\n      <td>NaN</td>\n      <td>NaN</td>\n      <td>NaN</td>\n    </tr>\n    <tr>\n      <td>2</td>\n      <td>Barbour</td>\n      <td>AL</td>\n      <td>Alabama</td>\n      <td>31.874030</td>\n      <td>-85.397327</td>\n      <td>31.844036</td>\n      <td>-85.310038</td>\n      <td>South</td>\n      <td>East South Central</td>\n      <td>6.0</td>\n      <td>...</td>\n      <td>737497.0</td>\n      <td>737500.0</td>\n      <td>737503.0</td>\n      <td>737512.0</td>\n      <td>737500.0</td>\n      <td>737495.0</td>\n      <td>0.9959</td>\n      <td>6.08</td>\n      <td>5400.0</td>\n      <td>18241.0</td>\n    </tr>\n    <tr>\n      <td>3</td>\n      <td>Bibb</td>\n      <td>AL</td>\n      <td>Alabama</td>\n      <td>32.999024</td>\n      <td>-87.125260</td>\n      <td>33.030921</td>\n      <td>-87.127659</td>\n      <td>South</td>\n      <td>East South Central</td>\n      <td>1.0</td>\n      <td>...</td>\n      <td>737497.0</td>\n      <td>737500.0</td>\n      <td>737503.0</td>\n      <td>737512.0</td>\n      <td>737500.0</td>\n      <td>737495.0</td>\n      <td>0.6003</td>\n      <td>2.75</td>\n      <td>14980.0</td>\n      <td>6120.0</td>\n    </tr>\n    <tr>\n      <td>4</td>\n      <td>Blount</td>\n      <td>AL</td>\n      <td>Alabama</td>\n      <td>33.990440</td>\n      <td>-86.562711</td>\n      <td>33.955243</td>\n      <td>-86.591491</td>\n      <td>South</td>\n      <td>East South Central</td>\n      <td>1.0</td>\n      <td>...</td>\n      <td>737497.0</td>\n      <td>737500.0</td>\n      <td>737503.0</td>\n      <td>737512.0</td>\n      <td>737500.0</td>\n      <td>737495.0</td>\n      <td>0.4242</td>\n      <td>7.21</td>\n      <td>31850.0</td>\n      <td>25233.0</td>\n    </tr>\n    <tr>\n      <td>...</td>\n      <td>...</td>\n      <td>...</td>\n      <td>...</td>\n      <td>...</td>\n      <td>...</td>\n      <td>...</td>\n      <td>...</td>\n      <td>...</td>\n      <td>...</td>\n      <td>...</td>\n      <td>...</td>\n      <td>...</td>\n      <td>...</td>\n      <td>...</td>\n      <td>...</td>\n      <td>...</td>\n      <td>...</td>\n      <td>...</td>\n      <td>...</td>\n      <td>...</td>\n      <td>...</td>\n    </tr>\n    <tr>\n      <td>3239</td>\n      <td>Kalawao</td>\n      <td>HI</td>\n      <td>NaN</td>\n      <td>NaN</td>\n      <td>NaN</td>\n      <td>21.188495</td>\n      <td>-156.979972</td>\n      <td>West</td>\n      <td>Pacific</td>\n      <td>3.0</td>\n      <td>...</td>\n      <td>737509.0</td>\n      <td>737507.0</td>\n      <td>737504.0</td>\n      <td>737509.0</td>\n      <td>737500.0</td>\n      <td>737495.0</td>\n      <td>0.3162</td>\n      <td>NaN</td>\n      <td>NaN</td>\n      <td>NaN</td>\n    </tr>\n    <tr>\n      <td>3240</td>\n      <td>Ciales Municipio</td>\n      <td>PR</td>\n      <td>NaN</td>\n      <td>NaN</td>\n      <td>NaN</td>\n      <td>18.314399</td>\n      <td>-66.494215</td>\n      <td>NaN</td>\n      <td>NaN</td>\n      <td>1.0</td>\n      <td>...</td>\n      <td>NaN</td>\n      <td>737500.0</td>\n      <td>737499.0</td>\n      <td>737499.0</td>\n      <td>737500.0</td>\n      <td>737495.0</td>\n      <td>NaN</td>\n      <td>NaN</td>\n      <td>NaN</td>\n      <td>NaN</td>\n    </tr>\n    <tr>\n      <td>3241</td>\n      <td>Humacao Municipio</td>\n      <td>PR</td>\n      <td>NaN</td>\n      <td>NaN</td>\n      <td>NaN</td>\n      <td>18.144804</td>\n      <td>-65.817109</td>\n      <td>NaN</td>\n      <td>NaN</td>\n      <td>1.0</td>\n      <td>...</td>\n      <td>NaN</td>\n      <td>737500.0</td>\n      <td>737499.0</td>\n      <td>737499.0</td>\n      <td>737500.0</td>\n      <td>737495.0</td>\n      <td>NaN</td>\n      <td>NaN</td>\n      <td>NaN</td>\n      <td>NaN</td>\n    </tr>\n    <tr>\n      <td>3242</td>\n      <td>New York City</td>\n      <td>NY</td>\n      <td>NaN</td>\n      <td>NaN</td>\n      <td>NaN</td>\n      <td>NaN</td>\n      <td>NaN</td>\n      <td>NaN</td>\n      <td>NaN</td>\n      <td>NaN</td>\n      <td>...</td>\n      <td>NaN</td>\n      <td>NaN</td>\n      <td>NaN</td>\n      <td>NaN</td>\n      <td>NaN</td>\n      <td>NaN</td>\n      <td>NaN</td>\n      <td>NaN</td>\n      <td>NaN</td>\n      <td>NaN</td>\n    </tr>\n    <tr>\n      <td>3243</td>\n      <td>Kansas City</td>\n      <td>MO</td>\n      <td>NaN</td>\n      <td>NaN</td>\n      <td>NaN</td>\n      <td>NaN</td>\n      <td>NaN</td>\n      <td>NaN</td>\n      <td>NaN</td>\n      <td>NaN</td>\n      <td>...</td>\n      <td>NaN</td>\n      <td>NaN</td>\n      <td>NaN</td>\n      <td>NaN</td>\n      <td>NaN</td>\n      <td>NaN</td>\n      <td>NaN</td>\n      <td>NaN</td>\n      <td>NaN</td>\n      <td>NaN</td>\n    </tr>\n  </tbody>\n</table>\n<p>3244 rows × 84 columns</p>\n</div>"
     },
     "metadata": {},
     "execution_count": 16
    }
   ],
   "source": [
    "counties.drop(columns = ['countyFIPS', 'STATEFP', 'COUNTYFP', 'CensusDivisionName'])"
   ]
  },
  {
   "cell_type": "code",
   "execution_count": null,
   "metadata": {},
   "outputs": [],
   "source": []
  }
 ],
 "metadata": {
  "language_info": {
   "codemirror_mode": {
    "name": "ipython",
    "version": 3
   },
   "file_extension": ".py",
   "mimetype": "text/x-python",
   "name": "python",
   "nbconvert_exporter": "python",
   "pygments_lexer": "ipython3",
   "version": "3.7.4-final"
  },
  "orig_nbformat": 2,
  "kernelspec": {
   "name": "python3",
   "display_name": "Python 3"
  }
 },
 "nbformat": 4,
 "nbformat_minor": 2
}