{
 "cells": [
  {
   "cell_type": "markdown",
   "metadata": {
    "collapsed": false
   },
   "source": [
    "# COVID-19\n",
    "\n",
    "## DS100 Final Project\n",
    "\n",
    "Gene Ho, Hannah Qi, Jasmine Wu"
   ]
  },
  {
   "cell_type": "code",
   "execution_count": null,
   "metadata": {
    "collapsed": false
   },
   "outputs": [],
   "source": [
    "import pandas as pd\n",
    "import numpy as np\n",
    "import matplotlib.pyplot as plt\n",
    "import seaborn as sns\n",
    "plt.style.use('ggplot')\n",
    "\n",
    "from datetime import datetime\n",
    "import datetime as dt\n",
    "\n",
    "import sklearn.linear_model as lm\n",
    "import sklearn\n",
    "\n",
    "# import geopandas\n",
    "\n",
    "from IPython.display import display, Markdown, Latex, Math"
   ]
  },
  {
   "cell_type": "markdown",
   "metadata": {
    "collapsed": false
   },
   "source": [
    "## Research Questions\n",
    "\n",
    "<!-- OLD QUESTIONS: 1. How does the timing of the implementation of various social distancing measures (i.e. time to issue) impact the growth rate of cases?\n",
    "2. Who would be considered as a highly susceptible population of COVID-19? What characteristics make people more susceptible to COVID-19? -->\n",
    "\n",
    "1. How does the timing of the implementation of various social distancing measures (i.e. time to issue) predict a county's democrat to republican ratio?\n",
    "2. How does the timing of the implementation of various social distancing measures (i.e. time to issue) predict a county's political party majority?"
   ]
  },
  {
   "cell_type": "markdown",
   "metadata": {
    "collapsed": false
   },
   "source": [
    "## Data Cleaning"
   ]
  },
  {
   "cell_type": "code",
   "execution_count": null,
   "metadata": {
    "collapsed": false
   },
   "outputs": [],
   "source": [
    "counties = pd.read_csv(\"./covid-data/abridged_counties.csv\")"
   ]
  },
  {
   "cell_type": "code",
   "execution_count": null,
   "metadata": {
    "collapsed": false
   },
   "outputs": [],
   "source": [
    "counties.head()"
   ]
  },
  {
   "cell_type": "code",
   "execution_count": null,
   "metadata": {
    "collapsed": false
   },
   "outputs": [],
   "source": [
    "counties.columns"
   ]
  },
  {
   "cell_type": "code",
   "execution_count": null,
   "metadata": {
    "collapsed": false
   },
   "outputs": [],
   "source": [
    "confirmed_df = pd.read_csv(\"./covid-data/time_series_covid19_confirmed_US.csv\")\n",
    "confirmed_df.head(10)"
   ]
  },
  {
   "cell_type": "code",
   "execution_count": null,
   "metadata": {
    "collapsed": false
   },
   "outputs": [],
   "source": [
    "# created a new table\n",
    "df = counties[[\n",
    "    'countyFIPS', 'STATEFP', 'COUNTYFP', 'CountyName', 'StateName', 'State',\n",
    "    'lat', 'lon', 'POP_LATITUDE', 'PopulationEstimate2018', 'POP_LONGITUDE',\n",
    "    'dem_to_rep_ratio', 'stay at home', '>50 gatherings', '>500 gatherings',\n",
    "    'public schools', 'restaurant dine-in', 'entertainment/gym',\n",
    "    'federal guidelines', 'foreign travel ban'\n",
    "]]"
   ]
  },
  {
   "cell_type": "code",
   "execution_count": null,
   "metadata": {
    "collapsed": false
   },
   "outputs": [],
   "source": [
    "df.head(5)"
   ]
  },
  {
   "cell_type": "code",
   "execution_count": null,
   "metadata": {
    "collapsed": false
   },
   "outputs": [],
   "source": [
    "# from https://gist.github.com/JeffPaine/3083347\n",
    "us_state_abbrev = {\n",
    "    'Alabama': 'AL',\n",
    "    'Alaska': 'AK',\n",
    "    'American Samoa': 'AS',\n",
    "    'Arizona': 'AZ',\n",
    "    'Arkansas': 'AR',\n",
    "    'California': 'CA',\n",
    "    'Colorado': 'CO',\n",
    "    'Connecticut': 'CT',\n",
    "    'Delaware': 'DE',\n",
    "    'District of Columbia': 'DC',\n",
    "    'Florida': 'FL',\n",
    "    'Georgia': 'GA',\n",
    "    'Guam': 'GU',\n",
    "    'Hawaii': 'HI',\n",
    "    'Idaho': 'ID',\n",
    "    'Illinois': 'IL',\n",
    "    'Indiana': 'IN',\n",
    "    'Iowa': 'IA',\n",
    "    'Kansas': 'KS',\n",
    "    'Kentucky': 'KY',\n",
    "    'Louisiana': 'LA',\n",
    "    'Maine': 'ME',\n",
    "    'Maryland': 'MD',\n",
    "    'Massachusetts': 'MA',\n",
    "    'Michigan': 'MI',\n",
    "    'Minnesota': 'MN',\n",
    "    'Mississippi': 'MS',\n",
    "    'Missouri': 'MO',\n",
    "    'Montana': 'MT',\n",
    "    'Nebraska': 'NE',\n",
    "    'Nevada': 'NV',\n",
    "    'New Hampshire': 'NH',\n",
    "    'New Jersey': 'NJ',\n",
    "    'New Mexico': 'NM',\n",
    "    'New York': 'NY',\n",
    "    'North Carolina': 'NC',\n",
    "    'North Dakota': 'ND',\n",
    "    'Northern Mariana Islands': 'MP',\n",
    "    'Ohio': 'OH',\n",
    "    'Oklahoma': 'OK',\n",
    "    'Oregon': 'OR',\n",
    "    'Pennsylvania': 'PA',\n",
    "    'Puerto Rico': 'PR',\n",
    "    'Rhode Island': 'RI',\n",
    "    'South Carolina': 'SC',\n",
    "    'South Dakota': 'SD',\n",
    "    'Tennessee': 'TN',\n",
    "    'Texas': 'TX',\n",
    "    'Utah': 'UT',\n",
    "    'Vermont': 'VT',\n",
    "    'Virgin Islands': 'VI',\n",
    "    'Virginia': 'VA',\n",
    "    'Washington': 'WA',\n",
    "    'West Virginia': 'WV',\n",
    "    'Wisconsin': 'WI',\n",
    "    'Wyoming': 'WY'\n",
    "}\n",
    "\n",
    "df[\"State\"] = df['StateName'].map(dict(map(reversed, us_state_abbrev.items())))"
   ]
  },
  {
   "cell_type": "code",
   "execution_count": null,
   "metadata": {
    "collapsed": false
   },
   "outputs": [],
   "source": [
    "#a function to convert times from Gregorian ordinal date to pandas Timestamp\n",
    "def convert_time(df, columns):\n",
    "    data = df.copy()\n",
    "\n",
    "    if isinstance(columns, list):\n",
    "        for col in columns:\n",
    "            if not isinstance(data[col][0], pd.Timestamp):\n",
    "                data[col] = data[col].dropna().astype(int).map(\n",
    "                    pd.Timestamp.fromordinal)\n",
    "    else:\n",
    "        if not isinstance(data[columns][0], pd.Timestamp):\n",
    "            data[columns] = data[columns].dropna().astype(int).map(\n",
    "                pd.Timestamp.fromordinal)\n",
    "    return data"
   ]
  },
  {
   "cell_type": "code",
   "execution_count": null,
   "metadata": {
    "collapsed": false
   },
   "outputs": [],
   "source": [
    "# apply func to the dataframe\n",
    "df = convert_time(df, [\n",
    "    'stay at home', '>50 gatherings', '>500 gatherings', 'public schools',\n",
    "    'restaurant dine-in', 'entertainment/gym', 'federal guidelines',\n",
    "    'foreign travel ban'\n",
    "])\n",
    "df"
   ]
  },
  {
   "cell_type": "code",
   "execution_count": null,
   "metadata": {
    "collapsed": false
   },
   "outputs": [],
   "source": [
    "#dropping NYC and Kansas City because they are cities not counties\n",
    "df.drop([3242, 3243], inplace=True)\n",
    "# df[df['CountyName'].isna()]\n",
    "\n",
    "\n",
    "# NYC is **not** a county so we are expecting an empty df\n",
    "df[df['CountyName'] == 'New York City']"
   ]
  },
  {
   "cell_type": "code",
   "execution_count": null,
   "metadata": {
    "collapsed": false
   },
   "outputs": [],
   "source": [
    "df.head()"
   ]
  },
  {
   "cell_type": "code",
   "execution_count": null,
   "metadata": {
    "collapsed": false
   },
   "outputs": [],
   "source": [
    "# from urllib.request import urlopen\n",
    "# import json\n",
    "# with urlopen(\n",
    "#         'https://raw.githubusercontent.com/plotly/datasets/master/geojson-counties-fips.json'\n",
    "# ) as response:\n",
    "#     counties = json.load(response)"
   ]
  },
  {
   "cell_type": "code",
   "execution_count": null,
   "metadata": {
    "collapsed": false
   },
   "outputs": [],
   "source": [
    "# # county population visualization\n",
    "# import plotly.express as px\n",
    "\n",
    "# df['log_pop'] = np.log(df['PopulationEstimate2018'])\n",
    "\n",
    "# fig = px.choropleth_mapbox(df,\n",
    "#                            geojson=counties,\n",
    "#                            locations='countyFIPS',\n",
    "#                            color='log_pop',\n",
    "#                            color_continuous_scale=\"Viridis\",\n",
    "#                            range_color=(0, 13),\n",
    "#                            mapbox_style=\"white-bg\",\n",
    "#                            hover_name=df['CountyName'],\n",
    "#                            zoom=3,\n",
    "#                            center={\n",
    "#                                \"lat\": 37.0902,\n",
    "#                                \"lon\": -95.7129\n",
    "#                            },\n",
    "#                            opacity=0.5,\n",
    "#                            labels={'log_pop': 'log(Population)'},\n",
    "#                            title='Population of US Counties in 2018')\n",
    "\n",
    "# fig.update_layout(margin={\"r\": 0, \"l\": 0, \"b\": 0})\n",
    "# fig.show()"
   ]
  },
  {
   "cell_type": "code",
   "execution_count": null,
   "metadata": {
    "collapsed": false
   },
   "outputs": [],
   "source": [
    "#creating a new column \"new FIPS\" of df's \"countyFIPS\" as integer\n",
    "df = df[df['countyFIPS'].notna()]\n",
    "# df.astype({'countyFIPS':'int32'}).dtypes\n",
    "df['new FIPS'] = df['countyFIPS'].astype('int32')\n",
    "df"
   ]
  },
  {
   "cell_type": "code",
   "execution_count": null,
   "metadata": {
    "collapsed": false
   },
   "outputs": [],
   "source": [
    "# creating a new column \"new FIPS\" of confimed_df's \"FIP\" as integer\n",
    "\n",
    "confirmed_df = confirmed_df.rename(columns={'Admin2': 'CountyName'})\n",
    "confirmed_df = confirmed_df[confirmed_df['FIPS'].notna()]\n",
    "confirmed_df[\"new FIPS\"] = confirmed_df['FIPS'].astype('int32')\n",
    "confirmed_df"
   ]
  },
  {
   "cell_type": "code",
   "execution_count": null,
   "metadata": {
    "collapsed": false
   },
   "outputs": [],
   "source": [
    "# joining df table and confirmed_df table by \"new FIPS\"\n",
    "joint_table = pd.merge(df, confirmed_df, how='inner', on=['new FIPS'])"
   ]
  },
  {
   "cell_type": "code",
   "execution_count": null,
   "metadata": {
    "collapsed": false
   },
   "outputs": [],
   "source": [
    "## column index of new FIPS and dates (i.e. simplified confirmed df)\n",
    "# joint_table.columns.get_loc(\"new FIPS\") # 20\n",
    "# joint_table.columns.get_loc(\"4/18/20\") # 119\n",
    "# joint_table.columns.get_loc(\"1/22/20\") # 32\n",
    "another_attempt_first = joint_table.iloc[:, np.r_[20, 32:119]]\n",
    "\n",
    "another_attempt_first.head()"
   ]
  },
  {
   "cell_type": "code",
   "execution_count": null,
   "metadata": {
    "collapsed": false
   },
   "outputs": [],
   "source": [
    "#function that catches each county's date of first case. if no date exists for that county, its first date will be recorded as 4/19/20\n",
    "def first_case(df):\n",
    "    firstcasedate_list = []\n",
    "    for i in df.index:\n",
    "        if df.iloc[i, len(df.columns) - 1] == 0:\n",
    "            firstcasedate_list.append(\n",
    "                '4/19/20'\n",
    "            )  #equivalent to NA value since it is not included in the df\n",
    "            continue\n",
    "        for j in range(1, len(df.columns)):\n",
    "            if df.iloc[i, j] > 0:\n",
    "                date = df.columns[j]\n",
    "                firstcasedate_list.append(date)\n",
    "                break\n",
    "    return firstcasedate_list"
   ]
  },
  {
   "cell_type": "code",
   "execution_count": null,
   "metadata": {
    "collapsed": false,
    "scrolled": true
   },
   "outputs": [],
   "source": [
    "#joint table with new column of each county's date of first case\n",
    "joint_table[\"Date of First Case\"] = pd.Series(\n",
    "    first_case(another_attempt_first))\n",
    "\n",
    "joint_table"
   ]
  },
  {
   "cell_type": "code",
   "execution_count": null,
   "metadata": {
    "collapsed": false
   },
   "outputs": [],
   "source": [
    "# changing the format of date in the joint_table\n",
    "joint_table[\"Date of First Case\"] = pd.to_datetime(\n",
    "    joint_table[\"Date of First Case\"]).dt.strftime('%Y-%m-%d')\n",
    "joint_table.tail()"
   ]
  },
  {
   "cell_type": "code",
   "execution_count": null,
   "metadata": {
    "collapsed": false
   },
   "outputs": [],
   "source": [
    "#a new dataframe with more relevant columns\n",
    "new_df = joint_table[[\n",
    "    'countyFIPS', 'CountyName_x', 'StateName', 'State', 'dem_to_rep_ratio',\n",
    "    'Date of First Case', 'stay at home', '>50 gatherings', '>500 gatherings',\n",
    "    'public schools', 'restaurant dine-in', 'entertainment/gym'\n",
    "]]\n",
    "new_df"
   ]
  },
  {
   "cell_type": "code",
   "execution_count": null,
   "metadata": {
    "collapsed": false
   },
   "outputs": [],
   "source": [
    "# print(new_df['dem_to_rep_ratio'].isna().sum()) # 26 counties without our outcome\n",
    "\n",
    "new_df.dropna(subset=['dem_to_rep_ratio'], inplace=True)\n",
    "#we had to drop all the rows that had NAN in the 'dem_to_rep_ratio' column\n",
    "#some were counties from Alaska and Hawaii"
   ]
  },
  {
   "cell_type": "code",
   "execution_count": null,
   "metadata": {
    "collapsed": false
   },
   "outputs": [],
   "source": [
    "# some counties did not have a date of order for 'stay at home', '>50 gatherings', '>500 gatherings', and 'entertainment/gym'\n",
    "# assume that they implemented it after the last day of data collection\n",
    "# impute with last date + 1 = April 19, 2020\n",
    "new_df['Date of First Case'] = pd.to_datetime(new_df['Date of First Case'])\n",
    "# april_19 = dt.datetime.strptime(\"2020-04-19\", '%Y-%m-%d')\n",
    "april_19 = pd.to_datetime(\"2020-04-19\")\n",
    "\n",
    "var_columns = [\n",
    "    'Date of First Case', 'stay at home', '>50 gatherings', '>500 gatherings',\n",
    "    'public schools', 'restaurant dine-in', 'entertainment/gym'\n",
    "]\n",
    "\n",
    "new_df[var_columns].apply(pd.to_datetime, errors='coerce')\n",
    "\n",
    "new_df = new_df.fillna(april_19)"
   ]
  },
  {
   "cell_type": "code",
   "execution_count": null,
   "metadata": {
    "collapsed": false
   },
   "outputs": [],
   "source": [
    "#making sure there are no more NAN dates for the orders\n",
    "new_df.isna().sum()"
   ]
  },
  {
   "cell_type": "code",
   "execution_count": null,
   "metadata": {
    "collapsed": false
   },
   "outputs": [],
   "source": [
    "new_df"
   ]
  },
  {
   "cell_type": "code",
   "execution_count": null,
   "metadata": {
    "collapsed": false
   },
   "outputs": [],
   "source": [
    "# number of days between date of first case and order (order - date of first case)\n",
    "\n",
    "for column in var_columns[1:]:\n",
    "    new_df.loc[:, column] = pd.to_datetime(new_df.loc[:, column])\n",
    "    new_df[column] = new_df[column] - new_df['Date of First Case']\n",
    "    new_df[column] = new_df[column].dt.days\n",
    "#     new_df[column] = new_df[column].astype(dt.timedelta).map(lambda x: np.nan if pd.isnull(x) else x.days)"
   ]
  },
  {
   "cell_type": "code",
   "execution_count": null,
   "metadata": {
    "collapsed": false
   },
   "outputs": [],
   "source": [
    "new_df.head()"
   ]
  },
  {
   "cell_type": "code",
   "execution_count": null,
   "metadata": {
    "collapsed": false,
    "scrolled": true
   },
   "outputs": [],
   "source": [
    "#a final dataframe\n",
    "final_df = new_df[[\n",
    "    'countyFIPS', 'CountyName_x', 'StateName', 'dem_to_rep_ratio',\n",
    "    'Date of First Case', 'stay at home', '>50 gatherings', '>500 gatherings',\n",
    "    'public schools', 'restaurant dine-in', 'entertainment/gym'\n",
    "]]\n",
    "\n",
    "final_df = final_df.rename(columns = {'CountyName_x' : 'CountyName'})\n",
    "\n",
    "print(final_df.shape[0], \"counties in our df\")\n",
    "final_df.head()\n",
    "\n",
    "# negative values means county was proactive and implemented it before first case"
   ]
  },
  {
   "cell_type": "markdown",
   "metadata": {
    "collapsed": false
   },
   "source": [
    "## EDA"
   ]
  },
  {
   "cell_type": "raw",
   "metadata": {
    "collapsed": false
   },
   "source": [
    "import plotly.express as px\n",
    "\n",
    "df['log_pop'] = np.log(df['PopulationEstimate2018'])\n",
    "\n",
    "fig = px.choropleth_mapbox(df, geojson=counties, locations='countyFIPS', color='log_pop',\n",
    "                           color_continuous_scale=\"Viridis\",\n",
    "                           range_color=(0, 13),\n",
    "                           mapbox_style=\"white-bg\",\n",
    "                           hover_name = df['CountyName'],\n",
    "                           zoom=3, center = {\"lat\": 37.0902, \"lon\": -95.7129},\n",
    "                           opacity=0.5,\n",
    "                           labels={'log_pop':'log(Population)'}, \n",
    "                           title = 'Population of US Counties in 2018'\n",
    "                          )\n",
    "\n",
    "\n",
    "fig.update_layout(margin={\"r\":0,\"l\":0,\"b\":0})\n",
    "fig.show()"
   ]
  },
  {
   "cell_type": "raw",
   "metadata": {
    "collapsed": false
   },
   "source": [
    "from urllib.request import urlopen\n",
    "import json\n",
    "with urlopen('https://raw.githubusercontent.com/plotly/datasets/master/geojson-counties-fips.json') as response:\n",
    "    counties = json.load(response)"
   ]
  },
  {
   "cell_type": "markdown",
   "metadata": {
    "collapsed": false
   },
   "source": [
    "### Order of Orders"
   ]
  },
  {
   "cell_type": "code",
   "execution_count": null,
   "metadata": {
    "collapsed": false
   },
   "outputs": [],
   "source": [
    "# order by which order is implemented first\n",
    "\n",
    "temp = np.flip(\n",
    "    final_df[[\n",
    "        'stay at home', '>50 gatherings', '>500 gatherings', 'public schools',\n",
    "        'restaurant dine-in', 'entertainment/gym'\n",
    "    ]].values.argsort(), 1)\n",
    "ndf = pd.DataFrame(final_df[[\n",
    "    'stay at home', '>50 gatherings', '>500 gatherings', 'public schools',\n",
    "    'restaurant dine-in', 'entertainment/gym'\n",
    "]].columns[temp])\n",
    "\n",
    "# final_df.columns\n",
    "\n",
    "ndf.head()"
   ]
  },
  {
   "cell_type": "code",
   "execution_count": null,
   "metadata": {
    "collapsed": false
   },
   "outputs": [],
   "source": [
    "orders_order = pd.DataFrame()\n",
    "for col in ndf.columns:\n",
    "    orders_order[col] = ndf[col].value_counts()"
   ]
  },
  {
   "cell_type": "code",
   "execution_count": null,
   "metadata": {
    "collapsed": false
   },
   "outputs": [],
   "source": [
    "orders_order = orders_order.fillna(0).rename(columns={\n",
    "    0: 1,\n",
    "    1: 2,\n",
    "    2: 3,\n",
    "    3: 4,\n",
    "    4: 5,\n",
    "    5: 6\n",
    "})\n",
    "\n",
    "orders_order = orders_order.reset_index().melt('index',\n",
    "                                               var_name='cols',\n",
    "                                               value_name='vals')"
   ]
  },
  {
   "cell_type": "code",
   "execution_count": null,
   "metadata": {
    "collapsed": false
   },
   "outputs": [],
   "source": [
    "orders_order.head()"
   ]
  },
  {
   "cell_type": "code",
   "execution_count": null,
   "metadata": {
    "collapsed": false,
    "scrolled": true
   },
   "outputs": [],
   "source": [
    "# sns.distplot(orders_order.columns, hist_kws={\"weights\":orders_order.values()})\n",
    "\n",
    "\n",
    "# not sure if this way makes sense\n",
    "# can potentially swap \"cols\" and \"index\"\n",
    "order_bar = sns.catplot(x=\"cols\", y=\"vals\", hue='index', data=orders_order, kind = \"bar\", orient = \"v\")\n",
    "\n",
    "# order_bar.set_xticklabels(rotation=90)\n",
    "\n",
    "plt.title(\"Frequency of Order of COVID-19 Orders\")\n",
    "\n",
    "order_bar.set_xticklabels(['1st', '2nd', '3rd', '4th', '5th', '6th'])\n",
    "plt.xlabel(\"Order Number\")\n",
    "plt.ylabel(\"Count\")\n",
    "order_bar._legend.set_title(\"Order\")\n",
    "\n",
    ";"
   ]
  },
  {
   "cell_type": "markdown",
   "metadata": {
    "collapsed": false
   },
   "source": [
    "### Outcome Variable: Democrat to Republican Ratio"
   ]
  },
  {
   "cell_type": "code",
   "execution_count": null,
   "metadata": {
    "collapsed": false
   },
   "outputs": [],
   "source": [
    "# summary statistics for our outcome of interest\n",
    "\n",
    "print(min(final_df['dem_to_rep_ratio']), np.median(final_df['dem_to_rep_ratio']),\n",
    "      np.mean(final_df['dem_to_rep_ratio']),\n",
    "      max(final_df['dem_to_rep_ratio']))"
   ]
  },
  {
   "cell_type": "code",
   "execution_count": null,
   "metadata": {
    "collapsed": false
   },
   "outputs": [],
   "source": [
    "# taking a look at the outliers\n",
    "\n",
    "# to get the 25th percentile/first quartile\n",
    "Q1 = np.percentile(final_df['dem_to_rep_ratio'], 25)\n",
    "# to get the 75th percentile/third quartile\n",
    "Q3 = np.percentile(final_df['dem_to_rep_ratio'], 75)\n",
    "# to get IQR\n",
    "dem_rep_iqr = Q3- Q1 #0.461\n",
    "# to get outliers\n",
    "outliers_below_Q1 = Q1 - 1.5*dem_rep_iqr # -0.42\n",
    "outliers_above_Q3 = Q3 + 1.5*dem_rep_iqr # 1.42\n",
    "\n",
    "# outlier counties\n",
    "# (final_df[final_df['dem_to_rep_ratio'] <= outliers_below_Q1]).sort_values(\n",
    "#     by='dem_to_rep_ratio') \n",
    "# There is no couties below the first interquartile ranges\n",
    "(final_df[final_df['dem_to_rep_ratio'] >= outliers_above_Q3]).sort_values(\n",
    "    by='dem_to_rep_ratio')"
   ]
  },
  {
   "cell_type": "code",
   "execution_count": null,
   "metadata": {
    "collapsed": false
   },
   "outputs": [],
   "source": [
    "f, axes = plt.subplots(1, 2)\n",
    "\n",
    "sns.distplot(final_df['dem_to_rep_ratio'] , kde = False, norm_hist = True, ax=axes[0]) # can't see the max value of 22...some more digging is needed\n",
    "\n",
    "sns.boxplot(final_df['dem_to_rep_ratio'],  orient='v' , ax=axes[1]) # lots of outliers that are 1.5 IQR above the third quartile\n",
    ";\n",
    "\n",
    "# data appears biased since democrats are in the numerator\n",
    "\n",
    "# even though there is a lot of skew, we can use a linear regression\n",
    "# and assume normality due to the central limit theorm"
   ]
  },
  {
   "cell_type": "markdown",
   "metadata": {
    "collapsed": false
   },
   "source": [
    "### Log Transforming"
   ]
  },
  {
   "cell_type": "code",
   "execution_count": null,
   "metadata": {
    "collapsed": false
   },
   "outputs": [],
   "source": [
    "# Based on our summary statistics, our max greater than our minimum by a magnitude of 1,000\n",
    "# Let's see if log transforming does anything\n",
    "\n",
    "f, axes = plt.subplots(1, 2)\n",
    "\n",
    "sns.distplot(np.log(final_df['dem_to_rep_ratio']) , kde = False, norm_hist = True, ax=axes[0]) \n",
    "\n",
    "sns.boxplot(np.log(final_df['dem_to_rep_ratio']),  orient='v' , ax=axes[1]) # outliers are on both sides of boxplot \n",
    ";"
   ]
  },
  {
   "cell_type": "code",
   "execution_count": null,
   "metadata": {
    "collapsed": false
   },
   "outputs": [],
   "source": [
    "final_df['log_ratio'] = np.log(final_df['dem_to_rep_ratio'])\n",
    "\n",
    "final_df.head()"
   ]
  },
  {
   "cell_type": "code",
   "execution_count": null,
   "metadata": {
    "collapsed": false
   },
   "outputs": [],
   "source": [
    "#the average log of the dem_to_rep_ratio\n",
    "np.mean(np.log(final_df['dem_to_rep_ratio']))"
   ]
  },
  {
   "cell_type": "code",
   "execution_count": null,
   "metadata": {
    "collapsed": false
   },
   "outputs": [],
   "source": [
    "# counties that are strongly Republican (1.5 IQR under the first quartile)\n",
    "first_quartile_for_log = np.percentile(final_df['log_ratio'], 25)\n",
    "third_quartile_for_log = np.percentile(final_df['log_ratio'], 75)\n",
    "dem_rep_log_iqr = third_quartile_for_log - first_quartile_for_log\n",
    "\n",
    "print(\"First Quartile: \", first_quartile_for_log)\n",
    "\n",
    "log_very_rep = (final_df[final_df['log_ratio'] <= (\n",
    "    first_quartile_for_log - 1.5*dem_rep_log_iqr)]).sort_values(\n",
    "        by='log_ratio', ascending=True)\n",
    "\n",
    "log_very_rep.head()"
   ]
  },
  {
   "cell_type": "code",
   "execution_count": null,
   "metadata": {
    "collapsed": false
   },
   "outputs": [],
   "source": [
    "# counties that are strongly Democratic (1.5 IQR above the third quartile)\n",
    "print(\"Third Quartile: \", third_quartile_for_log)\n",
    "\n",
    "log_very_dem = (final_df[final_df['log_ratio'] >= (\n",
    "    third_quartile_for_log + 1.5*dem_rep_log_iqr)]).sort_values(\n",
    "        by='log_ratio', ascending=False)\n",
    "\n",
    "log_very_dem.head()"
   ]
  },
  {
   "cell_type": "code",
   "execution_count": null,
   "metadata": {
    "collapsed": false
   },
   "outputs": [],
   "source": [
    "## TO DO:\n",
    "# Create another cloropleth with log transformed ratio"
   ]
  },
  {
   "cell_type": "markdown",
   "metadata": {
    "collapsed": false
   },
   "source": [
    "## Feature Assessment"
   ]
  },
  {
   "cell_type": "code",
   "execution_count": null,
   "metadata": {
    "collapsed": false
   },
   "outputs": [],
   "source": [
    "# checking the correlation matrix of our variables\n",
    "\n",
    "sns.heatmap(final_df[['dem_to_rep_ratio', 'stay at home', '>50 gatherings',\n",
    "       '>500 gatherings', 'public schools', 'restaurant dine-in',\n",
    "       'entertainment/gym', 'log_ratio']].corr(), annot=True)\n",
    ";\n",
    "\n",
    "## top right and bottom left have high correlation because\n",
    "## they are transformations of each other\n",
    "\n",
    "## variables have virtually no correlation with direct ratio\n",
    "## variables have low correlation [0.3, 0.5] with log-transformed\n",
    "## source: https://www.andrews.edu/~calkins/math/edrm611/edrm05.htm\n",
    "## probs should stick witht the log-transformed version"
   ]
  },
  {
   "cell_type": "code",
   "execution_count": null,
   "metadata": {
    "collapsed": false
   },
   "outputs": [],
   "source": [
    "# indepdent_vars.columns\n",
    "\n",
    "indepdent_vars = final_df[['stay at home', '>50 gatherings',\n",
    "       '>500 gatherings', 'public schools', 'restaurant dine-in',\n",
    "       'entertainment/gym']]"
   ]
  },
  {
   "cell_type": "code",
   "execution_count": null,
   "metadata": {
    "collapsed": false
   },
   "outputs": [],
   "source": [
    "#a function to find each feature's variation inflation factor\n",
    "from statsmodels.stats.outliers_influence import variance_inflation_factor\n",
    "\n",
    "def calculate_vif(df, drop_cols = None):\n",
    "    if drop_cols is not None:\n",
    "        df = df.drop(columns = drop_cols)\n",
    "    vif = pd.DataFrame()\n",
    "    vif[\"VIF Factor\"] = [variance_inflation_factor(df.values, i) for i in range(df.shape[1])]\n",
    "    vif[\"features\"] = df.columns\n",
    "\n",
    "    return vif"
   ]
  },
  {
   "cell_type": "code",
   "execution_count": null,
   "metadata": {
    "collapsed": false
   },
   "outputs": [],
   "source": [
    "indepdent_vars = final_df.iloc[:, 5:11]\n",
    "\n",
    "\n",
    "calculate_vif(indepdent_vars)"
   ]
  },
  {
   "cell_type": "code",
   "execution_count": null,
   "metadata": {
    "collapsed": false
   },
   "outputs": [],
   "source": [
    "calculate_vif(indepdent_vars, '>50 gatherings')"
   ]
  },
  {
   "cell_type": "code",
   "execution_count": null,
   "metadata": {
    "collapsed": false
   },
   "outputs": [],
   "source": [
    "calculate_vif(indepdent_vars, ['>50 gatherings', 'restaurant dine-in'])"
   ]
  },
  {
   "cell_type": "code",
   "execution_count": null,
   "metadata": {
    "collapsed": false
   },
   "outputs": [],
   "source": [
    "# checking our correlation matrix again\n",
    "sns.heatmap(final_df[['dem_to_rep_ratio', 'stay at home', \n",
    "       '>500 gatherings', 'public schools', \n",
    "       'entertainment/gym', 'log_ratio']].corr(), annot=True)\n",
    "\n",
    ";"
   ]
  },
  {
   "cell_type": "markdown",
   "metadata": {
    "collapsed": false
   },
   "source": [
    "## Making Our Model"
   ]
  },
  {
   "cell_type": "code",
   "execution_count": null,
   "metadata": {
    "collapsed": false
   },
   "outputs": [],
   "source": [
    "# split the data set into a training set and test set\n",
    "\n",
    "from sklearn.model_selection import train_test_split\n",
    "np.random.seed(47)\n",
    "\n",
    "X = final_df[[\n",
    "    'stay at home', '>50 gatherings', '>500 gatherings', 'public schools',\n",
    "    'restaurant dine-in', 'entertainment/gym'\n",
    "]]\n",
    "Y = pd.Series(final_df['dem_to_rep_ratio'])\n",
    "\n",
    "X_train, X_test, Y_train, Y_test = train_test_split(X, Y, test_size=0.1)\n",
    "#X_train, y_train"
   ]
  },
  {
   "cell_type": "code",
   "execution_count": null,
   "metadata": {
    "collapsed": false
   },
   "outputs": [],
   "source": [
    "#first linear model\n",
    "import sklearn.linear_model as lm\n",
    "\n",
    "linear_model = lm.LinearRegression()\n",
    "\n",
    "# Fit your linear model\n",
    "linear_model.fit(X_train, Y_train)\n",
    "Y_pred = linear_model.predict(X_train)"
   ]
  },
  {
   "cell_type": "code",
   "execution_count": null,
   "metadata": {
    "collapsed": false
   },
   "outputs": [],
   "source": [
    "#scatterplot of training set of first linear model\n",
    "\n",
    "import matplotlib.pyplot as plt\n",
    "plt.scatter(Y_train, linear_model.predict(X_train), alpha=0.5)\n",
    "plt.xlabel(\"Democratic to Republic Ratio of the Training Set\")\n",
    "plt.ylabel(\"Predicted Democratic to Republic Ratio of the Training Set\")\n",
    "plt.title(\n",
    "    \"Democratic to Republic Ratio vs Predicted Democratic to Republic Ratio of the Training Set\"\n",
    ")"
   ]
  },
  {
   "cell_type": "code",
   "execution_count": null,
   "metadata": {
    "collapsed": false
   },
   "outputs": [],
   "source": [
    "#function to calculate RMSE\n",
    "def rmse(actual, predicted):\n",
    "    return np.sqrt(np.mean((actual - predicted)**2))"
   ]
  },
  {
   "cell_type": "code",
   "execution_count": null,
   "metadata": {
    "collapsed": false
   },
   "outputs": [],
   "source": [
    "# error of our model\n",
    "train_error = rmse(Y_train, Y_pred)\n",
    "\n",
    "print(\"Training RMSE:\", train_error) # eh this is OK...will making it log-linear help?"
   ]
  },
  {
   "cell_type": "markdown",
   "metadata": {
    "collapsed": false
   },
   "source": [
    "### With Feature Selection"
   ]
  },
  {
   "cell_type": "code",
   "execution_count": null,
   "metadata": {
    "collapsed": false
   },
   "outputs": [],
   "source": [
    "#second training and training sets with select features\n",
    "X_select = final_df[[\n",
    "    'stay at home', '>500 gatherings', 'public schools',\n",
    "    'entertainment/gym'\n",
    "]]\n",
    "Y = pd.Series(final_df['dem_to_rep_ratio'])\n",
    "\n",
    "X_train_select, X_test_select, Y_train_select, Y_test_select = train_test_split(X_select, Y, test_size=0.1)\n"
   ]
  },
  {
   "cell_type": "code",
   "execution_count": null,
   "metadata": {
    "collapsed": false
   },
   "outputs": [],
   "source": [
    "#second model\n",
    "select_linear_model = lm.LinearRegression()\n",
    "\n",
    "# Fit your linear model\n",
    "select_linear_model.fit(X_train_select, Y_train_select)\n",
    "Y_pred_select = select_linear_model.predict(X_train_select)"
   ]
  },
  {
   "cell_type": "code",
   "execution_count": null,
   "metadata": {
    "collapsed": false
   },
   "outputs": [],
   "source": [
    "# error of our model\n",
    "select_train_error = rmse(Y_train_select, Y_pred_select)\n",
    "\n",
    "print(\"Selected Feature Training RMSE:\", select_train_error)"
   ]
  },
  {
   "cell_type": "markdown",
   "metadata": {
    "collapsed": false
   },
   "source": [
    "## With the Log-Transformed Outcome"
   ]
  },
  {
   "cell_type": "code",
   "execution_count": null,
   "metadata": {
    "collapsed": false
   },
   "outputs": [],
   "source": [
    "#log of dem_to_rep_ratio as new Y\n",
    "log_X = final_df[[\n",
    "    'stay at home', '>500 gatherings', 'public schools',\n",
    "    'entertainment/gym'\n",
    "]]\n",
    "\n",
    "log_Y = pd.Series(final_df['log_ratio'])\n",
    "\n",
    "log_X_train, log_X_test, log_Y_train, log_Y_test = train_test_split(log_X, log_Y, test_size=0.1) # 90:10 split since dataset is large\n",
    "#X_train, y_train\n",
    "\n",
    "log_X"
   ]
  },
  {
   "cell_type": "code",
   "execution_count": null,
   "metadata": {
    "collapsed": false
   },
   "outputs": [],
   "source": [
    "#third model\n",
    "log_linear_model = lm.LinearRegression()\n",
    "\n",
    "# Fit your linear model\n",
    "log_linear_model.fit(log_X_train, log_Y_train)\n",
    "log_Y_pred = log_linear_model.predict(log_X_train)"
   ]
  },
  {
   "cell_type": "code",
   "execution_count": null,
   "metadata": {
    "collapsed": false
   },
   "outputs": [],
   "source": [
    "#error of the third model\n",
    "log_train_error = rmse(log_Y_train, log_Y_pred)\n",
    "\n",
    "print(\"Log Training RMSE:\", log_train_error)"
   ]
  },
  {
   "cell_type": "code",
   "execution_count": null,
   "metadata": {
    "collapsed": false
   },
   "outputs": [],
   "source": [
    "print(\"Training RMSE:\", train_error)\n",
    "print(\"Selected Feature Training RMSE:\", select_train_error)\n",
    "print(\"Log Training RMSE:\", log_train_error) # best model!"
   ]
  },
  {
   "cell_type": "code",
   "execution_count": null,
   "metadata": {
    "collapsed": false
   },
   "outputs": [],
   "source": [
    "#scatterplot of our third model\n",
    "plt.scatter(log_Y_train, log_Y_pred, alpha=0.5)\n",
    "plt.xlabel(\"Democratic to Republic Ratio of the Training Set\")\n",
    "plt.ylabel(\"Predicted Democratic to Republic Ratio of the Training Set\")\n",
    "plt.title(\n",
    "    \"Democratic to Republic Ratio vs Predicted Democratic to Republic Ratio of the Training Set\"\n",
    ")\n",
    ";"
   ]
  },
  {
   "cell_type": "markdown",
   "metadata": {
    "collapsed": false
   },
   "source": [
    "## Predicting Political Party Majority"
   ]
  },
  {
   "cell_type": "code",
   "execution_count": null,
   "metadata": {
    "collapsed": false
   },
   "outputs": [],
   "source": [
    "final_df.loc[final_df['dem_to_rep_ratio'] > 1, 'majority'] = 0 # Democratic Majority = 0\n",
    "final_df.loc[final_df['dem_to_rep_ratio'] < 1, 'majority'] = 1 # Republican Majority = 1\n",
    "\n",
    "final_df = final_df.astype({'majority': 'int32'})"
   ]
  },
  {
   "cell_type": "code",
   "execution_count": null,
   "metadata": {
    "collapsed": false
   },
   "outputs": [],
   "source": [
    "final_df = final_df[['countyFIPS', 'CountyName', 'StateName', 'dem_to_rep_ratio',\n",
    "                      'log_ratio', 'majority',\n",
    "                      'Date of First Case', 'stay at home', '>50 gatherings',\n",
    "                      '>500 gatherings', 'public schools', 'restaurant dine-in',\n",
    "                      'entertainment/gym']]\n",
    "\n",
    "final_df.head()"
   ]
  },
  {
   "cell_type": "code",
   "execution_count": null,
   "metadata": {
    "collapsed": false
   },
   "outputs": [],
   "source": [
    "#creating the majority column and training and testing sets\n",
    "logm_X = final_df[[\n",
    "    'stay at home', '>500 gatherings', 'public schools',\n",
    "    'entertainment/gym'\n",
    "]]\n",
    "\n",
    "logm_Y = pd.Series(final_df['majority'])\n",
    "\n",
    "\n",
    "logm_X_train, logm_X_test, logm_Y_train, logm_Y_test = train_test_split(logm_X, logm_Y, test_size=0.1) # 90:10 split since dataset is large\n"
   ]
  },
  {
   "cell_type": "code",
   "execution_count": null,
   "metadata": {
    "collapsed": false
   },
   "outputs": [],
   "source": [
    "#logistic regression\n",
    "log_model = lm.LogisticRegression()\n",
    "\n",
    "log_model = log_model.fit(logm_X_train, logm_Y_train)\n",
    "\n",
    "logm_Y_pred = log_model.predict(logm_X_train)"
   ]
  },
  {
   "cell_type": "code",
   "execution_count": null,
   "metadata": {
    "collapsed": false
   },
   "outputs": [],
   "source": [
    "#accuracy of logistic model\n",
    "logisticm_training_accuracy = sum(logm_Y_pred == logm_Y_train)/len(logm_X_train)\n",
    "\n",
    "print(\"Logistic Model Training Accuracy:\", logisticm_training_accuracy)"
   ]
  },
  {
   "cell_type": "markdown",
   "metadata": {
    "collapsed": false
   },
   "source": [
    "\n",
    "## Validing Our Model with the Test Data\n",
    "How well did we do?"
   ]
  },
  {
   "cell_type": "markdown",
   "metadata": {
    "collapsed": false
   },
   "source": [
    "### Log-Linear Model"
   ]
  },
  {
   "cell_type": "code",
   "execution_count": null,
   "metadata": {
    "collapsed": false
   },
   "outputs": [],
   "source": [
    "test_error = rmse(log_Y_test, log_linear_model.predict(log_X_test))\n",
    "print(\"Test RMSE:\", test_error) # want lower error"
   ]
  },
  {
   "cell_type": "code",
   "execution_count": null,
   "metadata": {
    "collapsed": false
   },
   "outputs": [],
   "source": [
    "print(log_linear_model.intercept_)  \n",
    "print(log_linear_model.coef_)"
   ]
  },
  {
   "cell_type": "code",
   "execution_count": null,
   "metadata": {
    "collapsed": false
   },
   "outputs": [],
   "source": [
    "m1, m2, m3, m4 = log_linear_model.coef_\n",
    "b = log_linear_model.intercept_\n",
    "print('dem_to_rep_ratio = {0} + {1} * stay at home + {2} * >500 gatherings + {3} * public schools + {4} * entertainment/gym'.format(round(b, 3), round(m1, 3), round(m2, 3), round(m3, 3), round(m4, 3)))"
   ]
  },
  {
   "cell_type": "code",
   "execution_count": null,
   "metadata": {
    "collapsed": false,
    "scrolled": true
   },
   "outputs": [],
   "source": [
    "display(\n",
    "    Latex(\n",
    "        r'\\text{{log}}(\\texttt{{dem\\_to\\_rep\\_ratio}}) = {0} + {1} * \\texttt{{stay at home}} + {2} * \\texttt{{>500 gatherings}} + {3} * \\texttt{{public schools}} + {4} * \\texttt{{entertainment/gym}}'.format(round(b, 3), round(m1, 3), round(m2, 3), round(m3, 3), round(m4, 3))\n",
    "    )\n",
    ")"
   ]
  },
  {
   "cell_type": "markdown",
   "metadata": {
    "collapsed": false
   },
   "source": [
    "### Logistic Model"
   ]
  },
  {
   "cell_type": "code",
   "execution_count": null,
   "metadata": {
    "collapsed": false
   },
   "outputs": [],
   "source": [
    "#scatterplot of testing set\n",
    "plt.scatter(log_Y_test, log_model.predict(logm_X_test), alpha=0.5)\n",
    "plt.xlabel(\"Democratic to Republic Ratio\")\n",
    "plt.ylabel(\"Predicted Democratic to Republic Ratio\")\n",
    "plt.title(\n",
    "    \"Democratic to Republican Ratio vs Predicted Democratic to Republican Ratio of Test Set Using a Log-Linear Model\"\n",
    ")"
   ]
  },
  {
   "cell_type": "code",
   "execution_count": null,
   "metadata": {
    "collapsed": false
   },
   "outputs": [],
   "source": [
    "logm_accuracy = log_model.score(logm_X_test, logm_Y_test)\n",
    "print(\"Test Accuracy:\", logm_accuracy) # want higher accuracy\n"
   ]
  },
  {
   "cell_type": "code",
   "execution_count": null,
   "metadata": {
    "collapsed": false
   },
   "outputs": [],
   "source": [
    "print(log_model.intercept_)  \n",
    "print(log_model.coef_)"
   ]
  },
  {
   "cell_type": "code",
   "execution_count": null,
   "metadata": {
    "collapsed": false
   },
   "outputs": [],
   "source": [
    "m1, m2, m3, m4 = log_model.coef_[0]\n",
    "b = log_model.intercept_[0]"
   ]
  },
  {
   "cell_type": "code",
   "execution_count": null,
   "metadata": {
    "collapsed": false
   },
   "outputs": [],
   "source": [
    "display(\n",
    "    Latex(\n",
    "        r'\\text{{logit}}(\\texttt{{majority}}) = {0} + {1} * \\texttt{{stay at home}} + {2} * \\texttt{{>500 gatherings}} + {3} * \\texttt{{public schools}} + {4} * \\texttt{{entertainment/gym}}'.format(round(b, 3), round(m1, 3), round(m2, 3), round(m3, 3), round(m4, 3))\n",
    "    )\n",
    ")"
   ]
  },
  {
   "cell_type": "markdown",
   "metadata": {
    "collapsed": false
   },
   "source": [
    "## Data Visualizations\n",
    "### COVID-19 Landscape"
   ]
  },
  {
   "cell_type": "code",
   "execution_count": null,
   "metadata": {},
   "outputs": [],
   "source": [
    "from urllib.request import urlopen\n",
    "import json\n",
    "with urlopen('https://raw.githubusercontent.com/plotly/datasets/master/geojson-counties-fips.json') as response:\n",
    "    counties = json.load(response)"
   ]
  },
  {
   "cell_type": "code",
   "execution_count": null,
   "metadata": {},
   "outputs": [],
   "source": [
    "import plotly.express as px\n",
    "\n",
    "df['log_pop'] = np.log(df['PopulationEstimate2018'])\n",
    "\n",
    "fig_pop = px.choropleth_mapbox(df, geojson=counties, locations='countyFIPS', color='log_pop',\n",
    "                           color_continuous_scale=\"Viridis\",\n",
    "                           range_color=(0, 13),\n",
    "                           mapbox_style=\"white-bg\",\n",
    "                           hover_name = df['CountyName'],\n",
    "                           zoom=3, center = {\"lat\": 37.0902, \"lon\": -95.7129},\n",
    "                           opacity=0.5,\n",
    "                           labels={'log_pop':'log(Population)'}, \n",
    "                           title = 'Population of US Counties in 2018'\n",
    "                          )\n",
    "\n",
    "\n",
    "fig_pop.update_layout(margin={\"r\":0,\"l\":0,\"b\":0})\n",
    "fig_pop.show()"
   ]
  },
  {
   "cell_type": "code",
   "execution_count": null,
   "metadata": {},
   "outputs": [],
   "source": [
    "fig_log_party = px.choropleth_mapbox(final_df, geojson=counties, locations='countyFIPS', color='log_ratio',\n",
    "                           color_continuous_scale=\"bluered_r\",\n",
    "                           range_color=(-4, 4),\n",
    "                           mapbox_style=\"white-bg\",\n",
    "                           hover_name = final_df['CountyName'],\n",
    "                           zoom=3, center = {\"lat\": 37.0902, \"lon\": -95.7129},\n",
    "                           opacity=0.5,\n",
    "                           labels={'log_ratio':'log(Dem:Rep Ratio)'}, \n",
    "                           title = 'log(Democrat to Republican Ratio) of US Counties in 2016 Election'\n",
    "                          )\n",
    "\n",
    "\n",
    "fig_log_party.update_layout(margin={\"r\":0,\"l\":0,\"b\":0})\n",
    "fig_log_party.show()"
   ]
  },
  {
   "cell_type": "code",
   "execution_count": null,
   "metadata": {},
   "outputs": [],
   "source": [
    "\n",
    "\n",
    "\n",
    "fig_majority = px.choropleth_mapbox(final_df.replace({'majority' : {0 : \"Democratic\", 1 : \"Republican\"}}), geojson=counties, locations='countyFIPS', color='majority',\n",
    "                        #    color_continuous_scale=\"bluered\",\n",
    "                           color_discrete_map = {\"Democratic\" : \"#0000ff\", \"Republican\" : \"#ff0000\"},\n",
    "                        #    range_color=(0, 1),\n",
    "                           mapbox_style=\"white-bg\",\n",
    "                           hover_name = final_df['CountyName'],\n",
    "                           zoom=3, center = {\"lat\": 37.0902, \"lon\": -95.7129},\n",
    "                           opacity=0.5,\n",
    "                        #    labels={'log_ratio':'log(Dem:Rep Ratio)'}, \n",
    "                           title = 'Political Party Majority of US Counties in 2016 Election'\n",
    "                          )\n",
    "\n",
    "\n",
    "fig_majority.update_layout(margin={\"r\":0,\"l\":0,\"b\":0}, coloraxis_showscale=True, showlegend=True, )\n",
    "fig_majority.show()"
   ]
  },
  {
   "cell_type": "code",
   "execution_count": null,
   "metadata": {},
   "outputs": [],
   "source": []
  }
 ],
 "metadata": {
  "kernelspec": {
   "display_name": "Python 3.7.4 64-bit ('.venv': venv)",
   "language": "python",
   "metadata": {
    "cocalc": {
     "description": "Python 3 programming language",
     "priority": 100,
     "url": "https://www.python.org/"
    }
   },
   "name": "python37464bitvenvvenv8d87ddeee0ab41349e90a3508fa89a45"
  },
  "language_info": {
   "codemirror_mode": {
    "name": "ipython",
    "version": 3
   },
   "file_extension": ".py",
   "mimetype": "text/x-python",
   "name": "python",
   "nbconvert_exporter": "python",
   "pygments_lexer": "ipython3",
   "version": "3.7.4-final"
  },
  "orig_nbformat": 2
 },
 "nbformat": 4,
 "nbformat_minor": 4
}